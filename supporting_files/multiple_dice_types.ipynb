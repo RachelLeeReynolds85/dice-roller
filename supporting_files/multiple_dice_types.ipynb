{
 "metadata": {
  "language_info": {
   "codemirror_mode": {
    "name": "ipython",
    "version": 3
   },
   "file_extension": ".py",
   "mimetype": "text/x-python",
   "name": "python",
   "nbconvert_exporter": "python",
   "pygments_lexer": "ipython3",
   "version": "3.7.9-final"
  },
  "orig_nbformat": 2,
  "kernelspec": {
   "name": "python3",
   "display_name": "Python 3",
   "language": "python"
  }
 },
 "nbformat": 4,
 "nbformat_minor": 2,
 "cells": [
  {
   "cell_type": "code",
   "execution_count": 1,
   "metadata": {},
   "outputs": [],
   "source": [
    "import pandas as pd\n",
    "from tabulate import tabulate"
   ]
  },
  {
   "cell_type": "code",
   "execution_count": 2,
   "metadata": {},
   "outputs": [],
   "source": [
    "def get_input():\n",
    "    num_dice = {\n",
    "    \"d4\": 0,\n",
    "    \"d6\": 0,\n",
    "    \"d8\": 0,\n",
    "    \"d10\": 0,\n",
    "    \"d12\": 0,\n",
    "    \"d20\": 0,\n",
    "    }\n",
    "    \n",
    "    add_dice = \"y\"\n",
    "    while add_dice == \"y\":\n",
    "        dice_type = input(\"\"\"What type of dice to you want to add?\n",
    "        d4, d6, d8, d10, d12, d20? \"\"\")\n",
    "        num_type = int(input(\"How many do you want to add? \"))\n",
    "        num_dice[dice_type] = num_type\n",
    "        add_dice = input(\"Continue adding dice? (y/n) \")\n",
    "    return num_dice"
   ]
  },
  {
   "cell_type": "code",
   "execution_count": 3,
   "metadata": {
    "tags": []
   },
   "outputs": [
    {
     "output_type": "stream",
     "name": "stdout",
     "text": [
      "\nROLL PROBABILITIES\n+----------+----------------+---------+-------------+\n|   Roll # |   Ways to roll | Exact   | Or higher   |\n|----------+----------------+---------+-------------|\n|        3 |              1 | 0.52%   | 100.00%     |\n|        4 |              3 | 1.56%   | 99.48%      |\n|        5 |              6 | 3.12%   | 97.92%      |\n|        6 |             10 | 5.21%   | 94.79%      |\n|        7 |             14 | 7.29%   | 89.58%      |\n|        8 |             18 | 9.38%   | 82.29%      |\n|        9 |             21 | 10.94%  | 72.92%      |\n|       10 |             23 | 11.98%  | 61.98%      |\n|       11 |             23 | 11.98%  | 50.00%      |\n|       12 |             21 | 10.94%  | 38.02%      |\n|       13 |             18 | 9.38%   | 27.08%      |\n|       14 |             14 | 7.29%   | 17.71%      |\n|       15 |             10 | 5.21%   | 10.42%      |\n|       16 |              6 | 3.12%   | 5.21%       |\n|       17 |              3 | 1.56%   | 2.08%       |\n|       18 |              1 | 0.52%   | 0.52%       |\n+----------+----------------+---------+-------------+\n"
     ]
    }
   ],
   "source": [
    "# num_dice = get_input()\n",
    "num_dice = {\n",
    "    \"d4\": 1,\n",
    "    \"d6\": 1,\n",
    "    \"d8\": 1,\n",
    "    \"d10\": 0,\n",
    "    \"d12\": 0,\n",
    "    \"d20\": 0,\n",
    "    }\n",
    "\n",
    "dice_faces = {\n",
    "    \"d4\": [i for i in range(1, 5)],\n",
    "    \"d6\": [i for i in range(1, 7)],\n",
    "    \"d8\": [i for i in range(1, 9)],\n",
    "    \"d10\": [i for i in range(1, 11)],\n",
    "    \"d12\": [i for i in range(1, 13)],\n",
    "    \"d20\": [i for i in range(1, 21)],\n",
    "}\n",
    "\n",
    "dice_names = [\"d4\", \"d6\", \"d8\", \"d10\", \"d12\", \"d20\"]\n",
    "\n",
    "full_combo_string = \"\"\n",
    "first_combo_string = \"\"\n",
    "subsequent_combo_string = \"\"\n",
    "for dice_name in dice_names:\n",
    "    if num_dice[dice_name]:\n",
    "        for i in range(1, num_dice[dice_name] + 1):\n",
    "            df_string = dice_name + \"_df\" + str(i) + \" = pd.DataFrame(list(zip(\" + \"dice_faces['\" + dice_name + \"'],\" +\")), columns=[\" + \"'\" + dice_name +\"',\" +\"])\"\n",
    "            exec(df_string)\n",
    "            if not first_combo_string:\n",
    "                first_combo_string += (dice_name + \"_df\" + str(i) + \".assign(foo=1)\")\n",
    "            else:\n",
    "                subsequent_combo_string += (\".merge(\" + dice_name + \"_df\" + str(i) + \".assign(foo=1), on='foo')\")\n",
    "full_combo_string = \"df_combos = \" + first_combo_string + subsequent_combo_string + \".drop('foo', 1).dropna(axis=1)\"\n",
    "exec(full_combo_string)\n",
    "\n",
    "df_combos[\"sum\"] = df_combos.sum(axis=1)\n",
    "\n",
    "# print(\"ALL POSSIBLE COMBOS\")\n",
    "# print(tabulate(df_combos, headers=\"keys\", tablefmt=\"psql\", showindex=False))\n",
    "\n",
    "possible_rolls = df_combos[\"sum\"].value_counts().sort_index().index.to_list()\n",
    "ways_to_roll = df_combos[\"sum\"].value_counts().sort_index().values\n",
    "\n",
    "exact_roll_prob = []\n",
    "exact_roll_percent = []\n",
    "for i in ways_to_roll:\n",
    "    exact_roll_prob.append(i / sum(ways_to_roll))\n",
    "    exact_roll_percent.append(f'{i / sum(ways_to_roll):.2%}')\n",
    "\n",
    "roll_or_higher_prob = []\n",
    "roll_or_higher_percent = []\n",
    "\n",
    "for i in range(1, len(exact_roll_prob) + 1):\n",
    "    roll_or_higher_prob.append(sum(exact_roll_prob[:i]))\n",
    "    roll_or_higher_percent.append(f'{sum(exact_roll_prob[:i]):.2%}')\n",
    "\n",
    "roll_or_higher_prob.reverse()\n",
    "roll_or_higher_percent.reverse()\n",
    "\n",
    "dice_df = pd.DataFrame(list(zip(possible_rolls, ways_to_roll, exact_roll_percent, roll_or_higher_percent)), columns = ['Roll #', 'Ways to roll', 'Exact', 'Or higher'])\n",
    "\n",
    "print(\"\\nROLL PROBABILITIES\")\n",
    "print(tabulate(dice_df, headers=\"keys\", tablefmt=\"psql\", showindex=False))\n",
    "\n"
   ]
  },
  {
   "cell_type": "code",
   "execution_count": null,
   "metadata": {},
   "outputs": [],
   "source": []
  }
 ]
}