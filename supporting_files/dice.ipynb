{
 "metadata": {
  "language_info": {
   "codemirror_mode": {
    "name": "ipython",
    "version": 3
   },
   "file_extension": ".py",
   "mimetype": "text/x-python",
   "name": "python",
   "nbconvert_exporter": "python",
   "pygments_lexer": "ipython3",
   "version": "3.7.9-final"
  },
  "orig_nbformat": 2,
  "kernelspec": {
   "name": "python3",
   "display_name": "Python 3",
   "language": "python"
  }
 },
 "nbformat": 4,
 "nbformat_minor": 2,
 "cells": [
  {
   "cell_type": "code",
   "execution_count": 81,
   "metadata": {},
   "outputs": [],
   "source": [
    "import pandas as pd"
   ]
  },
  {
   "cell_type": "code",
   "execution_count": 2,
   "metadata": {},
   "outputs": [],
   "source": [
    "dice_types = [4, 6, 8, 10, 12, 20]"
   ]
  },
  {
   "cell_type": "code",
   "execution_count": 4,
   "metadata": {},
   "outputs": [],
   "source": [
    "num_of_types = [0, 1, 0, 0, 0, 0]"
   ]
  },
  {
   "cell_type": "code",
   "execution_count": 75,
   "metadata": {},
   "outputs": [],
   "source": [
    "dice_dict = {\n",
    "    4: 0,\n",
    "    6: 7,\n",
    "    8: 0,\n",
    "    10: 0,\n",
    "    12: 0,\n",
    "    20: 0,\n",
    "}"
   ]
  },
  {
   "cell_type": "code",
   "execution_count": 76,
   "metadata": {},
   "outputs": [
    {
     "output_type": "execute_result",
     "data": {
      "text/plain": [
       "[7,\n",
       " 8,\n",
       " 9,\n",
       " 10,\n",
       " 11,\n",
       " 12,\n",
       " 13,\n",
       " 14,\n",
       " 15,\n",
       " 16,\n",
       " 17,\n",
       " 18,\n",
       " 19,\n",
       " 20,\n",
       " 21,\n",
       " 22,\n",
       " 23,\n",
       " 24,\n",
       " 25,\n",
       " 26,\n",
       " 27,\n",
       " 28,\n",
       " 29,\n",
       " 30,\n",
       " 31,\n",
       " 32,\n",
       " 33,\n",
       " 34,\n",
       " 35,\n",
       " 36,\n",
       " 37,\n",
       " 38,\n",
       " 39,\n",
       " 40,\n",
       " 41,\n",
       " 42]"
      ]
     },
     "metadata": {},
     "execution_count": 76
    }
   ],
   "source": [
    "die_rolls = []\n",
    "for die, num in dice_dict.items():\n",
    "    if (num > 0):\n",
    "        for i in range(num, (die * num) + 1):\n",
    "            die_rolls.append(i)\n",
    "\n",
    "die_rolls\n",
    "    "
   ]
  },
  {
   "cell_type": "code",
   "execution_count": 77,
   "metadata": {},
   "outputs": [
    {
     "output_type": "execute_result",
     "data": {
      "text/plain": [
       "36"
      ]
     },
     "metadata": {},
     "execution_count": 77
    }
   ],
   "source": [
    "len(die_rolls)"
   ]
  },
  {
   "cell_type": "code",
   "execution_count": 78,
   "metadata": {},
   "outputs": [
    {
     "output_type": "execute_result",
     "data": {
      "text/plain": [
       "[1,\n",
       " 2,\n",
       " 3,\n",
       " 4,\n",
       " 5,\n",
       " 6,\n",
       " 7,\n",
       " 8,\n",
       " 9,\n",
       " 10,\n",
       " 11,\n",
       " 12,\n",
       " 13,\n",
       " 14,\n",
       " 15,\n",
       " 16,\n",
       " 17,\n",
       " 18,\n",
       " 18,\n",
       " 17,\n",
       " 16,\n",
       " 15,\n",
       " 14,\n",
       " 13,\n",
       " 12,\n",
       " 11,\n",
       " 10,\n",
       " 9,\n",
       " 8,\n",
       " 7,\n",
       " 6,\n",
       " 5,\n",
       " 4,\n",
       " 3,\n",
       " 2,\n",
       " 1]"
      ]
     },
     "metadata": {},
     "execution_count": 78
    }
   ],
   "source": [
    "ways_to_roll = []\n",
    "[ways_to_roll.append(0) for i in die_rolls]\n",
    "\n",
    "# Odd number of possible die rolls\n",
    "if (len(die_rolls) % 2):\n",
    "    for i in range(0, len(die_rolls) // 2 + 1):\n",
    "        neg_index = -1 * (i + 1)\n",
    "        ways_to_roll[i] = i + 1\n",
    "        ways_to_roll[neg_index] = i + 1\n",
    "\n",
    "# Even number of possible die rolls\n",
    "else:\n",
    "    for i in range(0, len(die_rolls) // 2):\n",
    "        neg_index = -1 * (i + 1)\n",
    "        ways_to_roll[i] = i + 1\n",
    "        ways_to_roll[neg_index] = i + 1\n",
    "\n",
    "ways_to_roll\n",
    "\n"
   ]
  },
  {
   "cell_type": "code",
   "execution_count": 79,
   "metadata": {},
   "outputs": [
    {
     "output_type": "execute_result",
     "data": {
      "text/plain": [
       "['0.3%',\n",
       " '0.6%',\n",
       " '0.9%',\n",
       " '1.2%',\n",
       " '1.5%',\n",
       " '1.8%',\n",
       " '2.0%',\n",
       " '2.3%',\n",
       " '2.6%',\n",
       " '2.9%',\n",
       " '3.2%',\n",
       " '3.5%',\n",
       " '3.8%',\n",
       " '4.1%',\n",
       " '4.4%',\n",
       " '4.7%',\n",
       " '5.0%',\n",
       " '5.3%',\n",
       " '5.3%',\n",
       " '5.0%',\n",
       " '4.7%',\n",
       " '4.4%',\n",
       " '4.1%',\n",
       " '3.8%',\n",
       " '3.5%',\n",
       " '3.2%',\n",
       " '2.9%',\n",
       " '2.6%',\n",
       " '2.3%',\n",
       " '2.0%',\n",
       " '1.8%',\n",
       " '1.5%',\n",
       " '1.2%',\n",
       " '0.9%',\n",
       " '0.6%',\n",
       " '0.3%']"
      ]
     },
     "metadata": {},
     "execution_count": 79
    }
   ],
   "source": [
    "exact_roll_prob = []\n",
    "exact_roll_percent = []\n",
    "for i in ways_to_roll:\n",
    "    exact_roll_prob.append(i / sum(ways_to_roll))\n",
    "    exact_roll_percent.append(f'{i / sum(ways_to_roll):.1%}')\n",
    "\n",
    "exact_roll_percent\n"
   ]
  },
  {
   "cell_type": "code",
   "execution_count": 80,
   "metadata": {},
   "outputs": [
    {
     "output_type": "execute_result",
     "data": {
      "text/plain": [
       "['100.0%',\n",
       " '99.7%',\n",
       " '99.1%',\n",
       " '98.2%',\n",
       " '97.1%',\n",
       " '95.6%',\n",
       " '93.9%',\n",
       " '91.8%',\n",
       " '89.5%',\n",
       " '86.8%',\n",
       " '83.9%',\n",
       " '80.7%',\n",
       " '77.2%',\n",
       " '73.4%',\n",
       " '69.3%',\n",
       " '64.9%',\n",
       " '60.2%',\n",
       " '55.3%',\n",
       " '50.0%',\n",
       " '44.7%',\n",
       " '39.8%',\n",
       " '35.1%',\n",
       " '30.7%',\n",
       " '26.6%',\n",
       " '22.8%',\n",
       " '19.3%',\n",
       " '16.1%',\n",
       " '13.2%',\n",
       " '10.5%',\n",
       " '8.2%',\n",
       " '6.1%',\n",
       " '4.4%',\n",
       " '2.9%',\n",
       " '1.8%',\n",
       " '0.9%',\n",
       " '0.3%']"
      ]
     },
     "metadata": {},
     "execution_count": 80
    }
   ],
   "source": [
    "roll_or_higher_prob = []\n",
    "roll_or_higher_percent = []\n",
    "\n",
    "for i in range(1, len(exact_roll_prob) + 1):\n",
    "    roll_or_higher_prob.append(sum(exact_roll_prob[:i]))\n",
    "    roll_or_higher_percent.append(f'{sum(exact_roll_prob[:i]):.1%}')\n",
    "\n",
    "roll_or_higher_prob.reverse()\n",
    "roll_or_higher_percent.reverse()\n",
    "roll_or_higher_percent"
   ]
  },
  {
   "cell_type": "code",
   "execution_count": 85,
   "metadata": {},
   "outputs": [
    {
     "output_type": "execute_result",
     "data": {
      "text/plain": [
       "    Roll  Ways Exact Or Higher\n",
       "0      7     1  0.3%    100.0%\n",
       "1      8     2  0.6%     99.7%\n",
       "2      9     3  0.9%     99.1%\n",
       "3     10     4  1.2%     98.2%\n",
       "4     11     5  1.5%     97.1%\n",
       "5     12     6  1.8%     95.6%\n",
       "6     13     7  2.0%     93.9%\n",
       "7     14     8  2.3%     91.8%\n",
       "8     15     9  2.6%     89.5%\n",
       "9     16    10  2.9%     86.8%\n",
       "10    17    11  3.2%     83.9%\n",
       "11    18    12  3.5%     80.7%\n",
       "12    19    13  3.8%     77.2%\n",
       "13    20    14  4.1%     73.4%\n",
       "14    21    15  4.4%     69.3%\n",
       "15    22    16  4.7%     64.9%\n",
       "16    23    17  5.0%     60.2%\n",
       "17    24    18  5.3%     55.3%\n",
       "18    25    18  5.3%     50.0%\n",
       "19    26    17  5.0%     44.7%\n",
       "20    27    16  4.7%     39.8%\n",
       "21    28    15  4.4%     35.1%\n",
       "22    29    14  4.1%     30.7%\n",
       "23    30    13  3.8%     26.6%\n",
       "24    31    12  3.5%     22.8%\n",
       "25    32    11  3.2%     19.3%\n",
       "26    33    10  2.9%     16.1%\n",
       "27    34     9  2.6%     13.2%\n",
       "28    35     8  2.3%     10.5%\n",
       "29    36     7  2.0%      8.2%\n",
       "30    37     6  1.8%      6.1%\n",
       "31    38     5  1.5%      4.4%\n",
       "32    39     4  1.2%      2.9%\n",
       "33    40     3  0.9%      1.8%\n",
       "34    41     2  0.6%      0.9%\n",
       "35    42     1  0.3%      0.3%"
      ],
      "text/html": "<div>\n<style scoped>\n    .dataframe tbody tr th:only-of-type {\n        vertical-align: middle;\n    }\n\n    .dataframe tbody tr th {\n        vertical-align: top;\n    }\n\n    .dataframe thead th {\n        text-align: right;\n    }\n</style>\n<table border=\"1\" class=\"dataframe\">\n  <thead>\n    <tr style=\"text-align: right;\">\n      <th></th>\n      <th>Roll</th>\n      <th>Ways</th>\n      <th>Exact</th>\n      <th>Or Higher</th>\n    </tr>\n  </thead>\n  <tbody>\n    <tr>\n      <th>0</th>\n      <td>7</td>\n      <td>1</td>\n      <td>0.3%</td>\n      <td>100.0%</td>\n    </tr>\n    <tr>\n      <th>1</th>\n      <td>8</td>\n      <td>2</td>\n      <td>0.6%</td>\n      <td>99.7%</td>\n    </tr>\n    <tr>\n      <th>2</th>\n      <td>9</td>\n      <td>3</td>\n      <td>0.9%</td>\n      <td>99.1%</td>\n    </tr>\n    <tr>\n      <th>3</th>\n      <td>10</td>\n      <td>4</td>\n      <td>1.2%</td>\n      <td>98.2%</td>\n    </tr>\n    <tr>\n      <th>4</th>\n      <td>11</td>\n      <td>5</td>\n      <td>1.5%</td>\n      <td>97.1%</td>\n    </tr>\n    <tr>\n      <th>5</th>\n      <td>12</td>\n      <td>6</td>\n      <td>1.8%</td>\n      <td>95.6%</td>\n    </tr>\n    <tr>\n      <th>6</th>\n      <td>13</td>\n      <td>7</td>\n      <td>2.0%</td>\n      <td>93.9%</td>\n    </tr>\n    <tr>\n      <th>7</th>\n      <td>14</td>\n      <td>8</td>\n      <td>2.3%</td>\n      <td>91.8%</td>\n    </tr>\n    <tr>\n      <th>8</th>\n      <td>15</td>\n      <td>9</td>\n      <td>2.6%</td>\n      <td>89.5%</td>\n    </tr>\n    <tr>\n      <th>9</th>\n      <td>16</td>\n      <td>10</td>\n      <td>2.9%</td>\n      <td>86.8%</td>\n    </tr>\n    <tr>\n      <th>10</th>\n      <td>17</td>\n      <td>11</td>\n      <td>3.2%</td>\n      <td>83.9%</td>\n    </tr>\n    <tr>\n      <th>11</th>\n      <td>18</td>\n      <td>12</td>\n      <td>3.5%</td>\n      <td>80.7%</td>\n    </tr>\n    <tr>\n      <th>12</th>\n      <td>19</td>\n      <td>13</td>\n      <td>3.8%</td>\n      <td>77.2%</td>\n    </tr>\n    <tr>\n      <th>13</th>\n      <td>20</td>\n      <td>14</td>\n      <td>4.1%</td>\n      <td>73.4%</td>\n    </tr>\n    <tr>\n      <th>14</th>\n      <td>21</td>\n      <td>15</td>\n      <td>4.4%</td>\n      <td>69.3%</td>\n    </tr>\n    <tr>\n      <th>15</th>\n      <td>22</td>\n      <td>16</td>\n      <td>4.7%</td>\n      <td>64.9%</td>\n    </tr>\n    <tr>\n      <th>16</th>\n      <td>23</td>\n      <td>17</td>\n      <td>5.0%</td>\n      <td>60.2%</td>\n    </tr>\n    <tr>\n      <th>17</th>\n      <td>24</td>\n      <td>18</td>\n      <td>5.3%</td>\n      <td>55.3%</td>\n    </tr>\n    <tr>\n      <th>18</th>\n      <td>25</td>\n      <td>18</td>\n      <td>5.3%</td>\n      <td>50.0%</td>\n    </tr>\n    <tr>\n      <th>19</th>\n      <td>26</td>\n      <td>17</td>\n      <td>5.0%</td>\n      <td>44.7%</td>\n    </tr>\n    <tr>\n      <th>20</th>\n      <td>27</td>\n      <td>16</td>\n      <td>4.7%</td>\n      <td>39.8%</td>\n    </tr>\n    <tr>\n      <th>21</th>\n      <td>28</td>\n      <td>15</td>\n      <td>4.4%</td>\n      <td>35.1%</td>\n    </tr>\n    <tr>\n      <th>22</th>\n      <td>29</td>\n      <td>14</td>\n      <td>4.1%</td>\n      <td>30.7%</td>\n    </tr>\n    <tr>\n      <th>23</th>\n      <td>30</td>\n      <td>13</td>\n      <td>3.8%</td>\n      <td>26.6%</td>\n    </tr>\n    <tr>\n      <th>24</th>\n      <td>31</td>\n      <td>12</td>\n      <td>3.5%</td>\n      <td>22.8%</td>\n    </tr>\n    <tr>\n      <th>25</th>\n      <td>32</td>\n      <td>11</td>\n      <td>3.2%</td>\n      <td>19.3%</td>\n    </tr>\n    <tr>\n      <th>26</th>\n      <td>33</td>\n      <td>10</td>\n      <td>2.9%</td>\n      <td>16.1%</td>\n    </tr>\n    <tr>\n      <th>27</th>\n      <td>34</td>\n      <td>9</td>\n      <td>2.6%</td>\n      <td>13.2%</td>\n    </tr>\n    <tr>\n      <th>28</th>\n      <td>35</td>\n      <td>8</td>\n      <td>2.3%</td>\n      <td>10.5%</td>\n    </tr>\n    <tr>\n      <th>29</th>\n      <td>36</td>\n      <td>7</td>\n      <td>2.0%</td>\n      <td>8.2%</td>\n    </tr>\n    <tr>\n      <th>30</th>\n      <td>37</td>\n      <td>6</td>\n      <td>1.8%</td>\n      <td>6.1%</td>\n    </tr>\n    <tr>\n      <th>31</th>\n      <td>38</td>\n      <td>5</td>\n      <td>1.5%</td>\n      <td>4.4%</td>\n    </tr>\n    <tr>\n      <th>32</th>\n      <td>39</td>\n      <td>4</td>\n      <td>1.2%</td>\n      <td>2.9%</td>\n    </tr>\n    <tr>\n      <th>33</th>\n      <td>40</td>\n      <td>3</td>\n      <td>0.9%</td>\n      <td>1.8%</td>\n    </tr>\n    <tr>\n      <th>34</th>\n      <td>41</td>\n      <td>2</td>\n      <td>0.6%</td>\n      <td>0.9%</td>\n    </tr>\n    <tr>\n      <th>35</th>\n      <td>42</td>\n      <td>1</td>\n      <td>0.3%</td>\n      <td>0.3%</td>\n    </tr>\n  </tbody>\n</table>\n</div>"
     },
     "metadata": {},
     "execution_count": 85
    }
   ],
   "source": [
    "dice_df = pd.DataFrame(list(zip(die_rolls, ways_to_roll, exact_roll_percent, roll_or_higher_percent)), columns = ['Roll', 'Ways', 'Exact', 'Or Higher'])\n",
    "\n",
    "dice_df"
   ]
  },
  {
   "cell_type": "code",
   "execution_count": null,
   "metadata": {},
   "outputs": [],
   "source": []
  }
 ]
}